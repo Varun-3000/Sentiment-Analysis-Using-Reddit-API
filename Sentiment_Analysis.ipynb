{
  "cells": [
    {
      "cell_type": "markdown",
      "metadata": {
        "id": "view-in-github",
        "colab_type": "text"
      },
      "source": [
        "<a href=\"https://colab.research.google.com/github/Varun-3000/Sentiment-Analysis-Using-Reddit-API/blob/main/Sentiment_Analysis.ipynb\" target=\"_parent\"><img src=\"https://colab.research.google.com/assets/colab-badge.svg\" alt=\"Open In Colab\"/></a>"
      ]
    },
    {
      "cell_type": "code",
      "execution_count": 2,
      "metadata": {
        "id": "VoO73nxwVbmo"
      },
      "outputs": [],
      "source": []
    },
    {
      "cell_type": "code",
      "execution_count": 3,
      "metadata": {
        "application/vnd.databricks.v1+cell": {
          "cellMetadata": {
            "byteLimit": 2048000,
            "rowLimit": 10000
          },
          "inputWidgets": {},
          "nuid": "c6788a38-05c6-47f8-9bec-2c4871c9f8e6",
          "showTitle": false,
          "tableResultSettingsMap": {},
          "title": ""
        },
        "colab": {
          "base_uri": "https://localhost:8080/"
        },
        "id": "GNFhP_FaVO6m",
        "outputId": "843c2c2c-c732-4efa-eba3-d8ea9d9507a9"
      },
      "outputs": [
        {
          "output_type": "stream",
          "name": "stdout",
          "text": [
            "Requirement already satisfied: praw in /usr/local/lib/python3.11/dist-packages (7.8.1)\n",
            "Requirement already satisfied: textblob in /usr/local/lib/python3.11/dist-packages (0.19.0)\n",
            "Requirement already satisfied: pyspark in /usr/local/lib/python3.11/dist-packages (3.5.1)\n",
            "Requirement already satisfied: prawcore<3,>=2.4 in /usr/local/lib/python3.11/dist-packages (from praw) (2.4.0)\n",
            "Requirement already satisfied: update_checker>=0.18 in /usr/local/lib/python3.11/dist-packages (from praw) (0.18.0)\n",
            "Requirement already satisfied: websocket-client>=0.54.0 in /usr/local/lib/python3.11/dist-packages (from praw) (1.8.0)\n",
            "Requirement already satisfied: nltk>=3.9 in /usr/local/lib/python3.11/dist-packages (from textblob) (3.9.1)\n",
            "Requirement already satisfied: py4j==0.10.9.7 in /usr/local/lib/python3.11/dist-packages (from pyspark) (0.10.9.7)\n",
            "Requirement already satisfied: click in /usr/local/lib/python3.11/dist-packages (from nltk>=3.9->textblob) (8.1.8)\n",
            "Requirement already satisfied: joblib in /usr/local/lib/python3.11/dist-packages (from nltk>=3.9->textblob) (1.4.2)\n",
            "Requirement already satisfied: regex>=2021.8.3 in /usr/local/lib/python3.11/dist-packages (from nltk>=3.9->textblob) (2024.11.6)\n",
            "Requirement already satisfied: tqdm in /usr/local/lib/python3.11/dist-packages (from nltk>=3.9->textblob) (4.67.1)\n",
            "Requirement already satisfied: requests<3.0,>=2.6.0 in /usr/local/lib/python3.11/dist-packages (from prawcore<3,>=2.4->praw) (2.32.3)\n",
            "Requirement already satisfied: charset-normalizer<4,>=2 in /usr/local/lib/python3.11/dist-packages (from requests<3.0,>=2.6.0->prawcore<3,>=2.4->praw) (3.4.1)\n",
            "Requirement already satisfied: idna<4,>=2.5 in /usr/local/lib/python3.11/dist-packages (from requests<3.0,>=2.6.0->prawcore<3,>=2.4->praw) (3.10)\n",
            "Requirement already satisfied: urllib3<3,>=1.21.1 in /usr/local/lib/python3.11/dist-packages (from requests<3.0,>=2.6.0->prawcore<3,>=2.4->praw) (2.4.0)\n",
            "Requirement already satisfied: certifi>=2017.4.17 in /usr/local/lib/python3.11/dist-packages (from requests<3.0,>=2.6.0->prawcore<3,>=2.4->praw) (2025.4.26)\n"
          ]
        }
      ],
      "source": [
        "!pip install praw textblob pyspark"
      ]
    },
    {
      "cell_type": "code",
      "execution_count": 4,
      "metadata": {
        "application/vnd.databricks.v1+cell": {
          "cellMetadata": {
            "byteLimit": 2048000,
            "rowLimit": 10000
          },
          "inputWidgets": {},
          "nuid": "9fd69c0c-6445-470b-8268-b6741633c618",
          "showTitle": false,
          "tableResultSettingsMap": {},
          "title": ""
        },
        "id": "spqbUKlaVO6n"
      },
      "outputs": [],
      "source": [
        "import praw\n",
        "import pandas as pd\n",
        "from textblob import TextBlob\n",
        "from datetime import datetime\n",
        "import os\n",
        "from pyspark.sql import SparkSession\n",
        "# Make sure the directory exists\n",
        "os.makedirs(\"/dbfs/FileStore/reddit\", exist_ok=True)\n"
      ]
    },
    {
      "cell_type": "code",
      "execution_count": 4,
      "metadata": {
        "id": "jsiz04BMhR-d"
      },
      "outputs": [],
      "source": []
    },
    {
      "cell_type": "code",
      "execution_count": 5,
      "metadata": {
        "application/vnd.databricks.v1+cell": {
          "cellMetadata": {
            "byteLimit": 2048000,
            "rowLimit": 10000
          },
          "inputWidgets": {},
          "nuid": "2ed49c27-2b95-40ad-a1f4-ac7137977bed",
          "showTitle": false,
          "tableResultSettingsMap": {},
          "title": ""
        },
        "id": "LjDm4gp9VO6n"
      },
      "outputs": [],
      "source": [
        "# Reddit API Auth\n",
        "reddit = praw.Reddit(\n",
        "    client_id=\"your-client-id\",\n",
        "    client_secret=\"your-client-secret\",\n",
        "    user_agent=\"Sentiment Analysis Bot by /u/<your-username>\"\n",
        ")"
      ]
    },
    {
      "cell_type": "code",
      "execution_count": 6,
      "metadata": {
        "application/vnd.databricks.v1+cell": {
          "cellMetadata": {
            "byteLimit": 2048000,
            "rowLimit": 10000
          },
          "inputWidgets": {},
          "nuid": "6628819d-e99b-4067-8c3d-5032d03ce6c8",
          "showTitle": false,
          "tableResultSettingsMap": {},
          "title": ""
        },
        "id": "bumD5hQiVO6n"
      },
      "outputs": [],
      "source": [
        "# Fetch latest comments\n",
        "comments = reddit.subreddit(\"Python\").comments(limit=10)"
      ]
    },
    {
      "cell_type": "code",
      "execution_count": 7,
      "metadata": {
        "application/vnd.databricks.v1+cell": {
          "cellMetadata": {
            "byteLimit": 2048000,
            "rowLimit": 10000
          },
          "inputWidgets": {},
          "nuid": "5fdb9c25-a9cf-44ed-b847-a11476b954d7",
          "showTitle": false,
          "tableResultSettingsMap": {},
          "title": ""
        },
        "colab": {
          "base_uri": "https://localhost:8080/"
        },
        "id": "iQRqsxMwVO6n",
        "outputId": "19bf4f8b-dd60-43c3-e819-85b057d6696f"
      },
      "outputs": [
        {
          "output_type": "stream",
          "name": "stderr",
          "text": [
            "WARNING:praw:It appears that you are using PRAW in an asynchronous environment.\n",
            "It is strongly recommended to use Async PRAW: https://asyncpraw.readthedocs.io.\n",
            "See https://praw.readthedocs.io/en/latest/getting_started/multiple_instances.html#discord-bots-and-asynchronous-environments for more info.\n",
            "\n"
          ]
        }
      ],
      "source": [
        "# Analyze\n",
        "data = []\n",
        "for comment in comments:\n",
        "    polarity = TextBlob(comment.body).sentiment.polarity\n",
        "    sentiment = \"positive\" if polarity > 0 else \"negative\" if polarity < 0 else \"neutral\"\n",
        "    data.append({\n",
        "        \"timestamp\": datetime.utcfromtimestamp(comment.created_utc),\n",
        "        \"author\": comment.author.name if comment.author else \"N/A\",\n",
        "        \"comment\": comment.body,\n",
        "        \"sentiment\": sentiment\n",
        "    })\n"
      ]
    },
    {
      "cell_type": "code",
      "execution_count": 8,
      "metadata": {
        "application/vnd.databricks.v1+cell": {
          "cellMetadata": {
            "byteLimit": 2048000,
            "rowLimit": 10000
          },
          "inputWidgets": {},
          "nuid": "359883f3-558d-49cd-bea9-7c8a371eb433",
          "showTitle": false,
          "tableResultSettingsMap": {},
          "title": ""
        },
        "id": "eRZiq4lSVO6n"
      },
      "outputs": [],
      "source": [
        "spark = SparkSession.builder \\\n",
        "    .appName(\"RedditSentiment\") \\\n",
        "    .getOrCreate()\n",
        "# Convert to Spark DF\n",
        "df = spark.createDataFrame(pd.DataFrame(data))\n",
        "\n",
        "# Save as Parquet (for efficient storage)\n",
        "df.write.mode(\"overwrite\").parquet(\"/dbfs/FileStore/reddit/reddit_sentiment.parquet\")\n",
        "\n",
        "# Convert to CSV for GitHub\n",
        "df.toPandas().to_csv(\"/dbfs/FileStore/reddit/reddit_sentiment.csv\", index=False)"
      ]
    },
    {
      "cell_type": "code",
      "execution_count": 9,
      "metadata": {
        "application/vnd.databricks.v1+cell": {
          "cellMetadata": {
            "byteLimit": 2048000,
            "rowLimit": 10000
          },
          "inputWidgets": {},
          "nuid": "a2e4b039-0244-4ab9-8610-123c0a94f9a2",
          "showTitle": false,
          "tableResultSettingsMap": {},
          "title": ""
        },
        "colab": {
          "base_uri": "https://localhost:8080/"
        },
        "id": "x8p0YwwxVO6n",
        "outputId": "5df23b8d-8694-4ab8-a32a-090b8c2ba468"
      },
      "outputs": [
        {
          "output_type": "stream",
          "name": "stdout",
          "text": [
            "             timestamp          author  \\\n",
            "0  2025-05-07 13:15:34   Here0s0Johnny   \n",
            "1  2025-05-07 13:14:15       tangos974   \n",
            "2  2025-05-07 13:11:27         Cynyr36   \n",
            "3  2025-05-07 13:10:44  Kooky_Work8978   \n",
            "4  2025-05-07 13:09:54        bmoregeo   \n",
            "\n",
            "                                             comment sentiment  \n",
            "0                              No, it's researech. 😜   neutral  \n",
            "1  What.\\n\\nMy dude, I hope this research is for ...  positive  \n",
            "2  And if it's not numeric, a pandas.series or a ...   neutral  \n",
            "3  So this \"research\" assumes that subjects reall...  positive  \n",
            "4                             clearly for you, typos  positive  \n"
          ]
        }
      ],
      "source": [
        "df_pd = pd.read_csv(\"/dbfs/FileStore/reddit/reddit_sentiment.csv\")\n",
        "print(df_pd.head())\n"
      ]
    },
    {
      "cell_type": "code",
      "execution_count": 10,
      "metadata": {
        "id": "R4WCU5iSWPgw"
      },
      "outputs": [],
      "source": [
        "# from google.colab import drive\n",
        "# drive.mount('/content/drive')"
      ]
    },
    {
      "cell_type": "code",
      "execution_count": 11,
      "metadata": {
        "application/vnd.databricks.v1+cell": {
          "cellMetadata": {},
          "inputWidgets": {},
          "nuid": "579418a6-92a5-4b12-8ba6-4ac1410d6542",
          "showTitle": false,
          "tableResultSettingsMap": {},
          "title": ""
        },
        "id": "-IfW31zfVO6o"
      },
      "outputs": [],
      "source": [
        "import matplotlib.pyplot as plt\n",
        "sentiment_counts = df_pd['sentiment'].value_counts()\n",
        "\n"
      ]
    },
    {
      "cell_type": "code",
      "execution_count": 12,
      "metadata": {
        "colab": {
          "base_uri": "https://localhost:8080/",
          "height": 209
        },
        "id": "mMUnDwIaZRzQ",
        "outputId": "5832df8e-7739-4b40-bce3-bf071ed9f651"
      },
      "outputs": [
        {
          "output_type": "execute_result",
          "data": {
            "text/plain": [
              "sentiment\n",
              "positive    5\n",
              "neutral     4\n",
              "negative    1\n",
              "Name: count, dtype: int64"
            ],
            "text/html": [
              "<div>\n",
              "<style scoped>\n",
              "    .dataframe tbody tr th:only-of-type {\n",
              "        vertical-align: middle;\n",
              "    }\n",
              "\n",
              "    .dataframe tbody tr th {\n",
              "        vertical-align: top;\n",
              "    }\n",
              "\n",
              "    .dataframe thead th {\n",
              "        text-align: right;\n",
              "    }\n",
              "</style>\n",
              "<table border=\"1\" class=\"dataframe\">\n",
              "  <thead>\n",
              "    <tr style=\"text-align: right;\">\n",
              "      <th></th>\n",
              "      <th>count</th>\n",
              "    </tr>\n",
              "    <tr>\n",
              "      <th>sentiment</th>\n",
              "      <th></th>\n",
              "    </tr>\n",
              "  </thead>\n",
              "  <tbody>\n",
              "    <tr>\n",
              "      <th>positive</th>\n",
              "      <td>5</td>\n",
              "    </tr>\n",
              "    <tr>\n",
              "      <th>neutral</th>\n",
              "      <td>4</td>\n",
              "    </tr>\n",
              "    <tr>\n",
              "      <th>negative</th>\n",
              "      <td>1</td>\n",
              "    </tr>\n",
              "  </tbody>\n",
              "</table>\n",
              "</div><br><label><b>dtype:</b> int64</label>"
            ]
          },
          "metadata": {},
          "execution_count": 12
        }
      ],
      "source": [
        "sentiment_counts"
      ]
    },
    {
      "cell_type": "code",
      "execution_count": 13,
      "metadata": {
        "colab": {
          "base_uri": "https://localhost:8080/",
          "height": 521
        },
        "id": "WScOmHWEZZGZ",
        "outputId": "5e187db9-a4c5-4af6-b8b0-0ab20f3475d4"
      },
      "outputs": [
        {
          "output_type": "display_data",
          "data": {
            "text/plain": [
              "<Figure size 600x600 with 1 Axes>"
            ],
            "image/png": "[encoded data removed]"
          },
          "metadata": {}
        }
      ],
      "source": [
        "plt.figure(figsize=(6, 6))\n",
        "plt.pie(\n",
        "    sentiment_counts,\n",
        "    labels=sentiment_counts.index,\n",
        "    autopct='%1.1f%%',\n",
        "    startangle=90,\n",
        "    colors=['lightgreen', 'lightcoral', 'lightgrey']  # Positive, Negative, Neutral\n",
        ")\n",
        "plt.title(\"Sentiment Distribution (Positive / Negative / Neutral)\")\n",
        "plt.axis('equal')  # Ensures a perfect circle\n",
        "plt.show()"
      ]
    },
    {
      "cell_type": "code",
      "execution_count": 13,
      "metadata": {
        "id": "FFD_LScvZv30"
      },
      "outputs": [],
      "source": []
    },
    {
      "cell_type": "code",
      "execution_count": 13,
      "metadata": {
        "id": "EQnmdLLchm6M"
      },
      "outputs": [],
      "source": []
    }
  ],
  "metadata": {
    "application/vnd.databricks.v1+notebook": {
      "computePreferences": null,
      "dashboards": [],
      "environmentMetadata": {
        "base_environment": "",
        "environment_version": "1"
      },
      "inputWidgetPreferences": null,
      "language": "python",
      "notebookMetadata": {
        "pythonIndentUnit": 4
      },
      "notebookName": "Sentiment Analysis",
      "widgets": {}
    },
    "colab": {
      "provenance": [],
      "include_colab_link": true
    },
    "kernelspec": {
      "display_name": "base",
      "language": "python",
      "name": "python3"
    },
    "language_info": {
      "codemirror_mode": {
        "name": "ipython",
        "version": 3
      },
      "file_extension": ".py",
      "mimetype": "text/x-python",
      "name": "python",
      "nbconvert_exporter": "python",
      "pygments_lexer": "ipython3",
      "version": "3.11.4"
    }
  },
  "nbformat": 4,
  "nbformat_minor": 0
}